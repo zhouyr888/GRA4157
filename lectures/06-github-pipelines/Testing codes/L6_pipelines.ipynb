{
 "cells": [
  {
   "cell_type": "markdown",
   "metadata": {},
   "source": [
    "# Setting Up the Testing Structure in Your Project"
   ]
  },
  {
   "cell_type": "code",
   "execution_count": null,
   "metadata": {},
   "outputs": [],
   "source": [
    "project_folder/\n",
    "    ├── main_code.py          # The main Python code with your functions\n",
    "    ├── test_main_code.py     # The test file with functions to test main_code.py\n",
    "    ├── L6_pipelines.ipynb    # Your notebook file\n",
    "    └── requirements.txt      # Contains the dependencies, including pytest\n"
   ]
  },
  {
   "cell_type": "code",
   "execution_count": 22,
   "metadata": {},
   "outputs": [],
   "source": [
    "import sys\n",
    "import os\n",
    "sys.path.insert(0, os.getcwd())\n"
   ]
  },
  {
   "cell_type": "code",
   "execution_count": 24,
   "metadata": {
    "scrolled": true
   },
   "outputs": [
    {
     "name": "stdout",
     "output_type": "stream",
     "text": [
      "7\n"
     ]
    }
   ],
   "source": [
    "from main_code import add_numbers\n",
    "\n",
    "# Testing if import works by using the function\n",
    "print(add_numbers(3, 4))  # Expected output: 7\n"
   ]
  },
  {
   "cell_type": "code",
   "execution_count": 26,
   "metadata": {},
   "outputs": [
    {
     "name": "stdout",
     "output_type": "stream",
     "text": [
      "\u001b[1m============================= test session starts =============================\u001b[0m\n",
      "platform win32 -- Python 3.11.9, pytest-7.4.4, pluggy-1.0.0\n",
      "rootdir: C:\\Users\\aliso\\BIG DATA\\GRA4157-main\\lectures\\06-guest-lecture\n",
      "plugins: anyio-4.2.0\n",
      "collected 1 item\n",
      "\n",
      "test_main_code.py \u001b[32m.\u001b[0m\u001b[32m                                                      [100%]\u001b[0m\n",
      "\n",
      "\u001b[32m============================== \u001b[32m\u001b[1m1 passed\u001b[0m\u001b[32m in 0.02s\u001b[0m\u001b[32m ==============================\u001b[0m\n"
     ]
    }
   ],
   "source": [
    "!pytest test_main_code.py\n"
   ]
  },
  {
   "cell_type": "markdown",
   "metadata": {},
   "source": [
    "# From above steps in L6_pipelines.ipynb:\n",
    "## 1. You successfully imported the function add_numbers from main_code.py and got the expected output (7). \n",
    "## 2. You ran **pytest on test_main_code.py**, and all the tests passed successfully (Pytest provides a simple way to run test functions, check output, and even automate this process within CI/CD pipelines.) Run pytest in the Jupyter notebook to verify all your functions are working as intended 是否按预期运行."
   ]
  },
  {
   "cell_type": "code",
   "execution_count": null,
   "metadata": {},
   "outputs": [],
   "source": []
  },
  {
   "cell_type": "code",
   "execution_count": null,
   "metadata": {},
   "outputs": [],
   "source": []
  },
  {
   "cell_type": "markdown",
   "metadata": {},
   "source": [
    "# GitHub pipelines\n",
    "\n",
    "GitHub pipelines is githubs answer to CI/CD (continuous integration and continuous deployment). In this lecture we will first look into a few examples, and then learn how to build an automated pipeline."
   ]
  },
  {
   "cell_type": "markdown",
   "metadata": {},
   "source": [
    "## A pipeline in the context of software engineering is a series of automated steps that code goes through from development to production. In simpler terms, it's a workflow that automates processes 自动化代码测试 such as code testing, building, and deploying applications."
   ]
  },
  {
   "cell_type": "markdown",
   "metadata": {},
   "source": [
    "## The pipeline is split into 2 major parts:\n",
    "\n",
    "* CI (Continuous Integration): This involves automatically integrating code changes from multiple developers into a single software project. **The key steps in CI are code testing and integration.**\n",
    "* CD (Continuous Deployment or Delivery): In Continuous Delivery, the code that has passed the integration phase is deployed to an environment (e.g., testing or staging). **In Continuous Deployment, it's also automatically deployed to production, meaning users will see these updates.**\n",
    "\n",
    "## In the context of machine learning, CI/CD pipelines are crucial for streamlining the process of developing, testing, and deploying machine learning models."
   ]
  },
  {
   "cell_type": "markdown",
   "metadata": {},
   "source": [
    "A CI/CD pipeline - What it is typically used for:\n",
    "* **Running Tests**: Automatically test code every time a commit is 'pushed' or a 'pull request' is made.\n",
    "  - **When new code (e.g., feature engineering, model update, hyperparameter optimization) is pushed to the repository**, the CI pipeline runs **automated tests to check if the new changes work well without breaking anything**.\n",
    "* **Building and Deploying Code**: Build your applications and deploy them to cloud services or servers.\n",
    "* **Code Linting and Formatting**: Automatically check for code style and formatting issues.\n",
    "* **Automation of Routine Tasks**: Trigger workflows for various tasks like **generating reports**, managing issues, or even interacting with other services via APIs.\n",
    "\n",
    "By using CI/CD pipeline, if your feature engineering process changes, new features will automatically be tested with the latest model, minimizing human intervention and errors."
   ]
  },
  {
   "cell_type": "markdown",
   "metadata": {},
   "source": [
    "A configuration file states what actions should be performed in the pipeline. In a GitHub repository, the file is located under .github/workflows/, with a .yml (YAML)-format. The standard is to let pipelines run on ubuntu, so some knowledge about this platform may be useful. E.g. command line interaction. "
   ]
  },
  {
   "cell_type": "markdown",
   "metadata": {},
   "source": [
    "## Testing:\n",
    "### Pytest provides a simple way to run test functions, check output, and even automate this process within CI/CD pipelines."
   ]
  },
  {
   "cell_type": "markdown",
   "metadata": {},
   "source": [
    "We have performed unit tests with pytest. Pytest can be included in the pipeline directly, and you can choose which files to run with pytest. Recall that we need files with functions named"
   ]
  },
  {
   "cell_type": "markdown",
   "metadata": {},
   "source": [
    "```python\n",
    "def test_function(x):\n",
    "    ...\n",
    "    ...\n",
    "    assert(computed==expected)\n",
    "```"
   ]
  },
  {
   "cell_type": "markdown",
   "metadata": {},
   "source": [
    "and then we can run "
   ]
  },
  {
   "cell_type": "markdown",
   "metadata": {},
   "source": [
    "```bash\n",
    "pytest name_of_file.py\n",
    "```"
   ]
  },
  {
   "cell_type": "markdown",
   "metadata": {},
   "source": [
    "to execute the tests. "
   ]
  },
  {
   "cell_type": "markdown",
   "metadata": {},
   "source": [
    "## Building and deploying code"
   ]
  },
  {
   "cell_type": "markdown",
   "metadata": {},
   "source": [
    "Often your code will run as an application in the cloud. The action of installing correct dependencies (build) for the application and update the most recent code to the application (deployment) is done in the actions file. We will not cover this part here. "
   ]
  },
  {
   "cell_type": "markdown",
   "metadata": {},
   "source": [
    "## Linting"
   ]
  },
  {
   "cell_type": "markdown",
   "metadata": {},
   "source": [
    "We have touched upon coding conventions and styles. Lucky for us there is an automated tool for this to make sure coders that collaborate follows a certain standard. **Tools will give you feedback on your code and often auto-correct when your code does not follow standard (linting) conventions.** "
   ]
  },
  {
   "cell_type": "markdown",
   "metadata": {},
   "source": [
    "#### Black (Black takes care of formatting, coders can focus on the logic of the code)\n",
    "Black is a popular code formatter for Python that enforces a consistent style for your code. Its primary goal is to automatically format Python code to make it more readable and maintainable, adhering to a consistent set of rules."
   ]
  },
  {
   "cell_type": "markdown",
   "metadata": {},
   "source": [
    "First, install `black` in your environment using pip:\n",
    "\n",
    "```bash\n",
    "pip install black\n",
    "```\n",
    "Now you can check whether your code will be formatted by\n",
    "```bash\n",
    "python -m black my_file.py --check\n",
    "```\n",
    "If we omit the \"--check\" black will automatically update my_file.py with needed changes. To run black (with changes) for all files in the current directory do:\n",
    "```bash\n",
    "python -m black .\n",
    "```\n",
    "'flake8 filename.py'  +  'pylint filename.py' (to check your code for compliance with style guides and to identify potential bugs.)\n",
    "```bash"
   ]
  },
  {
   "cell_type": "markdown",
   "metadata": {},
   "source": [
    "#### Exercise\n",
    "* Check whether your code adheres to black standards by installing and running black on one of your scripts\n",
    "* Install a few other linting tools (e.g. flake8 and pylint). Run also these linting tools to check for differences. (flake8 my_file.py and pylint my_file.py to run)"
   ]
  },
  {
   "cell_type": "code",
   "execution_count": 41,
   "metadata": {},
   "outputs": [
    {
     "name": "stdout",
     "output_type": "stream",
     "text": [
      "Requirement already satisfied: black in c:\\users\\aliso\\anaconda3\\lib\\site-packages (24.8.0)\n",
      "Requirement already satisfied: click>=8.0.0 in c:\\users\\aliso\\anaconda3\\lib\\site-packages (from black) (8.1.7)\n",
      "Requirement already satisfied: mypy-extensions>=0.4.3 in c:\\users\\aliso\\anaconda3\\lib\\site-packages (from black) (1.0.0)\n",
      "Requirement already satisfied: packaging>=22.0 in c:\\users\\aliso\\anaconda3\\lib\\site-packages (from black) (24.1)\n",
      "Requirement already satisfied: pathspec>=0.9.0 in c:\\users\\aliso\\anaconda3\\lib\\site-packages (from black) (0.10.3)\n",
      "Requirement already satisfied: platformdirs>=2 in c:\\users\\aliso\\anaconda3\\lib\\site-packages (from black) (3.10.0)\n",
      "Requirement already satisfied: colorama in c:\\users\\aliso\\anaconda3\\lib\\site-packages (from click>=8.0.0->black) (0.4.6)\n"
     ]
    }
   ],
   "source": [
    "!pip install black"
   ]
  },
  {
   "cell_type": "code",
   "execution_count": 43,
   "metadata": {},
   "outputs": [
    {
     "name": "stderr",
     "output_type": "stream",
     "text": [
      "would reformat C:\\Users\\aliso\\BIG DATA\\GRA4157-main\\lectures\\06-guest-lecture\\main_code.py\n",
      "\n",
      "Oh no! \\U0001f4a5 \\U0001f494 \\U0001f4a5\n",
      "1 file would be reformatted.\n"
     ]
    }
   ],
   "source": [
    "!python -m black \"C:/Users/aliso/BIG DATA/GRA4157-main/lectures/06-guest-lecture/main_code.py\" --check"
   ]
  },
  {
   "cell_type": "code",
   "execution_count": 45,
   "metadata": {},
   "outputs": [
    {
     "name": "stderr",
     "output_type": "stream",
     "text": [
      "reformatted C:\\Users\\aliso\\BIG DATA\\GRA4157-main\\lectures\\06-guest-lecture\\main_code.py\n",
      "\n",
      "All done! \\u2728 \\U0001f370 \\u2728\n",
      "1 file reformatted.\n"
     ]
    }
   ],
   "source": [
    "!python -m black \"C:/Users/aliso/BIG DATA/GRA4157-main/lectures/06-guest-lecture/main_code.py\""
   ]
  },
  {
   "cell_type": "code",
   "execution_count": 59,
   "metadata": {},
   "outputs": [
    {
     "name": "stdout",
     "output_type": "stream",
     "text": [
      "Requirement already satisfied: flake8 in c:\\users\\aliso\\anaconda3\\lib\\site-packages (7.0.0)\n",
      "Requirement already satisfied: mccabe<0.8.0,>=0.7.0 in c:\\users\\aliso\\anaconda3\\lib\\site-packages (from flake8) (0.7.0)\n",
      "Requirement already satisfied: pycodestyle<2.12.0,>=2.11.0 in c:\\users\\aliso\\anaconda3\\lib\\site-packages (from flake8) (2.11.1)\n",
      "Requirement already satisfied: pyflakes<3.3.0,>=3.2.0 in c:\\users\\aliso\\anaconda3\\lib\\site-packages (from flake8) (3.2.0)\n",
      "Requirement already satisfied: pylint in c:\\users\\aliso\\anaconda3\\lib\\site-packages (2.16.2)\n",
      "Requirement already satisfied: platformdirs>=2.2.0 in c:\\users\\aliso\\anaconda3\\lib\\site-packages (from pylint) (3.10.0)\n",
      "Requirement already satisfied: astroid<=2.16.0-dev0,>=2.14.2 in c:\\users\\aliso\\anaconda3\\lib\\site-packages (from pylint) (2.14.2)\n",
      "Requirement already satisfied: isort<6,>=4.2.5 in c:\\users\\aliso\\anaconda3\\lib\\site-packages (from pylint) (5.13.2)\n",
      "Requirement already satisfied: mccabe<0.8,>=0.6 in c:\\users\\aliso\\anaconda3\\lib\\site-packages (from pylint) (0.7.0)\n",
      "Requirement already satisfied: tomlkit>=0.10.1 in c:\\users\\aliso\\anaconda3\\lib\\site-packages (from pylint) (0.11.1)\n",
      "Requirement already satisfied: dill>=0.3.6 in c:\\users\\aliso\\anaconda3\\lib\\site-packages (from pylint) (0.3.8)\n",
      "Requirement already satisfied: colorama>=0.4.5 in c:\\users\\aliso\\anaconda3\\lib\\site-packages (from pylint) (0.4.6)\n",
      "Requirement already satisfied: lazy-object-proxy>=1.4.0 in c:\\users\\aliso\\anaconda3\\lib\\site-packages (from astroid<=2.16.0-dev0,>=2.14.2->pylint) (1.10.0)\n",
      "Requirement already satisfied: wrapt<2,>=1.14 in c:\\users\\aliso\\anaconda3\\lib\\site-packages (from astroid<=2.16.0-dev0,>=2.14.2->pylint) (1.14.1)\n"
     ]
    }
   ],
   "source": [
    "!pip install flake8\n",
    "!pip install pylint"
   ]
  },
  {
   "cell_type": "code",
   "execution_count": 61,
   "metadata": {},
   "outputs": [],
   "source": [
    "!flake8 \"C:/Users/aliso/BIG DATA/GRA4157-main/lectures/06-guest-lecture/main_code.py\"\n",
    "# This command will display any style issues or warnings directly in the notebook."
   ]
  },
  {
   "cell_type": "code",
   "execution_count": 63,
   "metadata": {},
   "outputs": [
    {
     "name": "stdout",
     "output_type": "stream",
     "text": [
      "************* Module main_code\n",
      "main_code.py:1:0: C0114: Missing module docstring (missing-module-docstring)\n",
      "main_code.py:4:0: C0116: Missing function or method docstring (missing-function-docstring)\n",
      "main_code.py:4:16: C0103: Argument name \"x\" doesn't conform to snake_case naming style (invalid-name)\n",
      "main_code.py:4:19: C0103: Argument name \"y\" doesn't conform to snake_case naming style (invalid-name)\n",
      "\n",
      "------------------------------------------------------------------\n",
      "Your code has been rated at 0.00/10 (previous run: 0.00/10, +0.00)\n",
      "\n"
     ]
    }
   ],
   "source": [
    "!pylint \"C:/Users/aliso/BIG DATA/GRA4157-main/lectures/06-guest-lecture/main_code.py\"\n",
    "# This will give you detailed feedback on the code, including style and code quality."
   ]
  },
  {
   "cell_type": "markdown",
   "metadata": {},
   "source": [
    "# Routine tasks\n",
    "Assume that we have a function that creates a set of outputs. This could be a report with a table, or trained parameters for a machine learning model. To get these values (outputs) to the application, the functions are most often run as a step in the automated pipeline. Let's say that we have a script:"
   ]
  },
  {
   "cell_type": "code",
   "execution_count": 73,
   "metadata": {},
   "outputs": [],
   "source": [
    "\n",
    "def f(x): # function definition named 'f'\n",
    "    return [2*x, x+5, 15*x] # takes one argument, x\n",
    "\n",
    "#f(1)"
   ]
  },
  {
   "cell_type": "markdown",
   "metadata": {},
   "source": [
    "The exact content of this function may change, and many developers have worked together (and separately) to update the function. This function is the basis for writing a report in table format. In the pipeline step we can for instance create a script that **saves the results from running the function to the repository**."
   ]
  },
  {
   "cell_type": "markdown",
   "metadata": {},
   "source": [
    "```python\n",
    "from my_file import f\n",
    "d0, d1, d2 = f(x)  # unpack its returned list into three variables: d0, d1, and d2.\n",
    "with open(\"results_file.txt\", \"w\") as file:\n",
    "    content = f\"{d0}, {d1}, {d2}\"\n",
    "    file.write(content)\n",
    "```\n",
    "\n",
    "We can save this file as **update_results.py** and **in the pipeline** we run:\n",
    "\n",
    "```bash\n",
    "**python update_results.py**\n",
    "```\n",
    "\n",
    "**This approach can be used in an automated pipeline to ensure that generated results are automatically saved and available to other parts of a project**"
   ]
  },
  {
   "cell_type": "code",
   "execution_count": null,
   "metadata": {},
   "outputs": [],
   "source": []
  },
  {
   "cell_type": "markdown",
   "metadata": {},
   "source": [
    "# The structure of the .yml-file"
   ]
  },
  {
   "cell_type": "markdown",
   "metadata": {},
   "source": [
    "```yaml\n",
    "name: Pylint\n",
    "\n",
    "on: [push]\n",
    "\n",
    "jobs:\n",
    "  build:\n",
    "    runs-on: ubuntu-latest\n",
    "    strategy:\n",
    "      matrix:\n",
    "        python-version: [\"3.8\", \"3.9\", \"3.10\"]\n",
    "    steps:\n",
    "    - uses: actions/checkout@v4\n",
    "    - name: Set up Python ${{ matrix.python-version }}\n",
    "      uses: actions/setup-python@v3\n",
    "      with:\n",
    "        python-version: ${{ matrix.python-version }}\n",
    "    - name: Install dependencies\n",
    "      run: |\n",
    "        python -m pip install --upgrade pip\n",
    "        pip install pylint\n",
    "        pip install black\n",
    "        pip install pytest\n",
    "    - name: Run pytest\n",
    "      run:  |\n",
    "        pytest lectures/01-python-summary/lecture-scripts/test_*\n",
    "    - name: Analysing the code with pylint and black\n",
    "      run: |\n",
    "        pylint $(git ls-files 'scripts/*.py')\n",
    "        black scripts/*.py\n",
    "```\n",
    "        "
   ]
  },
  {
   "cell_type": "markdown",
   "metadata": {},
   "source": [
    "## Exercise \n",
    "\n",
    "* Write a python script in the folder \"scripts\". You can copy one of your scripts from a weekly exercise. \n",
    "\n",
    "* Add, commit and push the changes to your forked repository.\n",
    "\n",
    "* To run github actions on a forked repository you might need to go to \"Actions\" and enable actions on GitHub.\n",
    "\n",
    "* Install pylint and black. Run pylint and black on the script that you added to the \"scripts\" folder. \n",
    "\n",
    "* Make necessary changes to the script such that pylint and black finishes successfully.\n",
    "\n",
    "* Make changes to datestamp.txt on your local machine. Try to do git pull. Resolve the merge conflict\n"
   ]
  }
 ],
 "metadata": {
  "kernelspec": {
   "display_name": "Python 3 (ipykernel)",
   "language": "python",
   "name": "python3"
  },
  "language_info": {
   "codemirror_mode": {
    "name": "ipython",
    "version": 3
   },
   "file_extension": ".py",
   "mimetype": "text/x-python",
   "name": "python",
   "nbconvert_exporter": "python",
   "pygments_lexer": "ipython3",
   "version": "3.11.9"
  }
 },
 "nbformat": 4,
 "nbformat_minor": 4
}
